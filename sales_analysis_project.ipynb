{
 "cells": [
  {
   "cell_type": "code",
   "execution_count": 7,
   "id": "c27cf135-34c9-46a1-91f2-81b29acf6336",
   "metadata": {},
   "outputs": [],
   "source": [
    "import pandas as pd\n",
    "import numpy as np\n",
    "from matplotlib import pyplot as plt\n",
    "import seaborn as sns\n",
    "import datetime"
   ]
  },
  {
   "cell_type": "code",
   "execution_count": 8,
   "id": "1ffdfc81-a428-4d74-8994-59cbbc750d0e",
   "metadata": {},
   "outputs": [
    {
     "data": {
      "text/html": [
       "<div>\n",
       "<style scoped>\n",
       "    .dataframe tbody tr th:only-of-type {\n",
       "        vertical-align: middle;\n",
       "    }\n",
       "\n",
       "    .dataframe tbody tr th {\n",
       "        vertical-align: top;\n",
       "    }\n",
       "\n",
       "    .dataframe thead th {\n",
       "        text-align: right;\n",
       "    }\n",
       "</style>\n",
       "<table border=\"1\" class=\"dataframe\">\n",
       "  <thead>\n",
       "    <tr style=\"text-align: right;\">\n",
       "      <th></th>\n",
       "      <th>Date</th>\n",
       "      <th>Time</th>\n",
       "      <th>State</th>\n",
       "      <th>Group</th>\n",
       "      <th>Unit</th>\n",
       "      <th>Sales</th>\n",
       "    </tr>\n",
       "  </thead>\n",
       "  <tbody>\n",
       "    <tr>\n",
       "      <th>0</th>\n",
       "      <td>1-Oct-2020</td>\n",
       "      <td>Morning</td>\n",
       "      <td>WA</td>\n",
       "      <td>Kids</td>\n",
       "      <td>8</td>\n",
       "      <td>20000</td>\n",
       "    </tr>\n",
       "    <tr>\n",
       "      <th>1</th>\n",
       "      <td>1-Oct-2020</td>\n",
       "      <td>Morning</td>\n",
       "      <td>WA</td>\n",
       "      <td>Men</td>\n",
       "      <td>8</td>\n",
       "      <td>20000</td>\n",
       "    </tr>\n",
       "    <tr>\n",
       "      <th>2</th>\n",
       "      <td>1-Oct-2020</td>\n",
       "      <td>Morning</td>\n",
       "      <td>WA</td>\n",
       "      <td>Women</td>\n",
       "      <td>4</td>\n",
       "      <td>10000</td>\n",
       "    </tr>\n",
       "    <tr>\n",
       "      <th>3</th>\n",
       "      <td>1-Oct-2020</td>\n",
       "      <td>Morning</td>\n",
       "      <td>WA</td>\n",
       "      <td>Seniors</td>\n",
       "      <td>15</td>\n",
       "      <td>37500</td>\n",
       "    </tr>\n",
       "    <tr>\n",
       "      <th>4</th>\n",
       "      <td>1-Oct-2020</td>\n",
       "      <td>Afternoon</td>\n",
       "      <td>WA</td>\n",
       "      <td>Kids</td>\n",
       "      <td>3</td>\n",
       "      <td>7500</td>\n",
       "    </tr>\n",
       "    <tr>\n",
       "      <th>5</th>\n",
       "      <td>1-Oct-2020</td>\n",
       "      <td>Afternoon</td>\n",
       "      <td>WA</td>\n",
       "      <td>Men</td>\n",
       "      <td>10</td>\n",
       "      <td>25000</td>\n",
       "    </tr>\n",
       "    <tr>\n",
       "      <th>6</th>\n",
       "      <td>1-Oct-2020</td>\n",
       "      <td>Afternoon</td>\n",
       "      <td>WA</td>\n",
       "      <td>Women</td>\n",
       "      <td>3</td>\n",
       "      <td>7500</td>\n",
       "    </tr>\n",
       "    <tr>\n",
       "      <th>7</th>\n",
       "      <td>1-Oct-2020</td>\n",
       "      <td>Afternoon</td>\n",
       "      <td>WA</td>\n",
       "      <td>Seniors</td>\n",
       "      <td>11</td>\n",
       "      <td>27500</td>\n",
       "    </tr>\n",
       "    <tr>\n",
       "      <th>8</th>\n",
       "      <td>1-Oct-2020</td>\n",
       "      <td>Evening</td>\n",
       "      <td>WA</td>\n",
       "      <td>Kids</td>\n",
       "      <td>15</td>\n",
       "      <td>37500</td>\n",
       "    </tr>\n",
       "    <tr>\n",
       "      <th>9</th>\n",
       "      <td>1-Oct-2020</td>\n",
       "      <td>Evening</td>\n",
       "      <td>WA</td>\n",
       "      <td>Men</td>\n",
       "      <td>15</td>\n",
       "      <td>37500</td>\n",
       "    </tr>\n",
       "  </tbody>\n",
       "</table>\n",
       "</div>"
      ],
      "text/plain": [
       "         Date        Time State     Group  Unit  Sales\n",
       "0  1-Oct-2020     Morning    WA      Kids     8  20000\n",
       "1  1-Oct-2020     Morning    WA       Men     8  20000\n",
       "2  1-Oct-2020     Morning    WA     Women     4  10000\n",
       "3  1-Oct-2020     Morning    WA   Seniors    15  37500\n",
       "4  1-Oct-2020   Afternoon    WA      Kids     3   7500\n",
       "5  1-Oct-2020   Afternoon    WA       Men    10  25000\n",
       "6  1-Oct-2020   Afternoon    WA     Women     3   7500\n",
       "7  1-Oct-2020   Afternoon    WA   Seniors    11  27500\n",
       "8  1-Oct-2020     Evening    WA      Kids    15  37500\n",
       "9  1-Oct-2020     Evening    WA       Men    15  37500"
      ]
     },
     "execution_count": 8,
     "metadata": {},
     "output_type": "execute_result"
    }
   ],
   "source": [
    "sales = pd.read_csv('AusApparalSales4thQrt2020.csv')\n",
    "sales.head(10)"
   ]
  },
  {
   "cell_type": "markdown",
   "id": "eb38ffa7-579b-48f8-ae9a-8119ff992c00",
   "metadata": {},
   "source": [
    "DATA WRANGLING"
   ]
  },
  {
   "cell_type": "code",
   "execution_count": 14,
   "id": "401374c0-691e-4a30-8dc8-b1072d5cfc29",
   "metadata": {},
   "outputs": [
    {
     "name": "stdout",
     "output_type": "stream",
     "text": [
      "<class 'pandas.core.frame.DataFrame'>\n",
      "RangeIndex: 7560 entries, 0 to 7559\n",
      "Data columns (total 6 columns):\n",
      " #   Column  Non-Null Count  Dtype \n",
      "---  ------  --------------  ----- \n",
      " 0   Date    7560 non-null   object\n",
      " 1   Time    7560 non-null   object\n",
      " 2   State   7560 non-null   object\n",
      " 3   Group   7560 non-null   object\n",
      " 4   Unit    7560 non-null   int64 \n",
      " 5   Sales   7560 non-null   int64 \n",
      "dtypes: int64(2), object(4)\n",
      "memory usage: 354.5+ KB\n"
     ]
    }
   ],
   "source": [
    "sales.info()"
   ]
  },
  {
   "cell_type": "code",
   "execution_count": 17,
   "id": "a18c40e3-ed44-41d1-be48-99beb74aa192",
   "metadata": {},
   "outputs": [
    {
     "data": {
      "text/plain": [
       "Date     0\n",
       "Time     0\n",
       "State    0\n",
       "Group    0\n",
       "Unit     0\n",
       "Sales    0\n",
       "dtype: int64"
      ]
     },
     "execution_count": 17,
     "metadata": {},
     "output_type": "execute_result"
    }
   ],
   "source": [
    "sales.isna().sum()"
   ]
  },
  {
   "cell_type": "code",
   "execution_count": 19,
   "id": "6ea495a6-1a4e-4d58-9854-25dd4e053d00",
   "metadata": {},
   "outputs": [
    {
     "data": {
      "text/plain": [
       "Date     7560\n",
       "Time     7560\n",
       "State    7560\n",
       "Group    7560\n",
       "Unit     7560\n",
       "Sales    7560\n",
       "dtype: int64"
      ]
     },
     "execution_count": 19,
     "metadata": {},
     "output_type": "execute_result"
    }
   ],
   "source": [
    "sales.notna().sum()"
   ]
  },
  {
   "cell_type": "code",
   "execution_count": 22,
   "id": "2094ee7a-93c8-495b-be1f-f7307f92cce1",
   "metadata": {},
   "outputs": [
    {
     "data": {
      "text/html": [
       "<div>\n",
       "<style scoped>\n",
       "    .dataframe tbody tr th:only-of-type {\n",
       "        vertical-align: middle;\n",
       "    }\n",
       "\n",
       "    .dataframe tbody tr th {\n",
       "        vertical-align: top;\n",
       "    }\n",
       "\n",
       "    .dataframe thead th {\n",
       "        text-align: right;\n",
       "    }\n",
       "</style>\n",
       "<table border=\"1\" class=\"dataframe\">\n",
       "  <thead>\n",
       "    <tr style=\"text-align: right;\">\n",
       "      <th></th>\n",
       "      <th>Unit</th>\n",
       "      <th>Sales</th>\n",
       "    </tr>\n",
       "  </thead>\n",
       "  <tbody>\n",
       "    <tr>\n",
       "      <th>0</th>\n",
       "      <td>8</td>\n",
       "      <td>20000</td>\n",
       "    </tr>\n",
       "    <tr>\n",
       "      <th>1</th>\n",
       "      <td>8</td>\n",
       "      <td>20000</td>\n",
       "    </tr>\n",
       "    <tr>\n",
       "      <th>2</th>\n",
       "      <td>4</td>\n",
       "      <td>10000</td>\n",
       "    </tr>\n",
       "    <tr>\n",
       "      <th>3</th>\n",
       "      <td>15</td>\n",
       "      <td>37500</td>\n",
       "    </tr>\n",
       "    <tr>\n",
       "      <th>4</th>\n",
       "      <td>3</td>\n",
       "      <td>7500</td>\n",
       "    </tr>\n",
       "  </tbody>\n",
       "</table>\n",
       "</div>"
      ],
      "text/plain": [
       "   Unit  Sales\n",
       "0     8  20000\n",
       "1     8  20000\n",
       "2     4  10000\n",
       "3    15  37500\n",
       "4     3   7500"
      ]
     },
     "execution_count": 22,
     "metadata": {},
     "output_type": "execute_result"
    }
   ],
   "source": [
    "##subsetting only the numeric data:\n",
    "sales_data = sales[['Unit', 'Sales']]\n",
    "sales_data.head()"
   ]
  },
  {
   "cell_type": "code",
   "execution_count": 25,
   "id": "d2085c42-3829-4412-9939-da2fa0e1418c",
   "metadata": {},
   "outputs": [],
   "source": [
    "from sklearn.preprocessing import MinMaxScaler"
   ]
  },
  {
   "cell_type": "code",
   "execution_count": 28,
   "id": "8b83d10d-f8e3-4b74-a107-e69d1da9f751",
   "metadata": {},
   "outputs": [],
   "source": [
    "normalize=MinMaxScaler()"
   ]
  },
  {
   "cell_type": "code",
   "execution_count": 31,
   "id": "c8916dd0-0054-4162-9c40-65c120ed4edd",
   "metadata": {},
   "outputs": [
    {
     "name": "stdout",
     "output_type": "stream",
     "text": [
      "[[0.0952381  0.0952381 ]\n",
      " [0.0952381  0.0952381 ]\n",
      " [0.03174603 0.03174603]\n",
      " ...\n",
      " [0.20634921 0.20634921]\n",
      " [0.14285714 0.14285714]\n",
      " [0.17460317 0.17460317]]\n",
      "(7560, 2)\n"
     ]
    }
   ],
   "source": [
    "normalized_data=normalize.fit_transform(sales_data)\n",
    "print(normalized_data)\n",
    "print(normalized_data.shape)"
   ]
  },
  {
   "cell_type": "code",
   "execution_count": 34,
   "id": "9d1ec8e0-37ab-477c-a859-82de1c9473e1",
   "metadata": {},
   "outputs": [],
   "source": [
    "sales_nw=sales.copy()"
   ]
  },
  {
   "cell_type": "code",
   "execution_count": 37,
   "id": "c98d5760-2bee-4727-93f1-42b18961a62f",
   "metadata": {},
   "outputs": [],
   "source": [
    "sales_nw['Unit']=(sales_nw['Unit']-sales_nw['Unit'].min())/(sales_nw['Unit'].max()-sales_nw['Unit'].min())\n",
    "sales_nw['Sales']=(sales_nw['Sales']-sales_nw['Sales'].min())/(sales_nw['Sales'].max()-sales_nw['Sales'].min())"
   ]
  },
  {
   "cell_type": "code",
   "execution_count": 40,
   "id": "eb5ba5bd-b035-4e8a-a30f-53e24161b926",
   "metadata": {},
   "outputs": [
    {
     "data": {
      "text/html": [
       "<div>\n",
       "<style scoped>\n",
       "    .dataframe tbody tr th:only-of-type {\n",
       "        vertical-align: middle;\n",
       "    }\n",
       "\n",
       "    .dataframe tbody tr th {\n",
       "        vertical-align: top;\n",
       "    }\n",
       "\n",
       "    .dataframe thead th {\n",
       "        text-align: right;\n",
       "    }\n",
       "</style>\n",
       "<table border=\"1\" class=\"dataframe\">\n",
       "  <thead>\n",
       "    <tr style=\"text-align: right;\">\n",
       "      <th></th>\n",
       "      <th>Date</th>\n",
       "      <th>Time</th>\n",
       "      <th>State</th>\n",
       "      <th>Group</th>\n",
       "      <th>Unit</th>\n",
       "      <th>Sales</th>\n",
       "    </tr>\n",
       "  </thead>\n",
       "  <tbody>\n",
       "    <tr>\n",
       "      <th>0</th>\n",
       "      <td>1-Oct-2020</td>\n",
       "      <td>Morning</td>\n",
       "      <td>WA</td>\n",
       "      <td>Kids</td>\n",
       "      <td>0.095238</td>\n",
       "      <td>0.095238</td>\n",
       "    </tr>\n",
       "    <tr>\n",
       "      <th>1</th>\n",
       "      <td>1-Oct-2020</td>\n",
       "      <td>Morning</td>\n",
       "      <td>WA</td>\n",
       "      <td>Men</td>\n",
       "      <td>0.095238</td>\n",
       "      <td>0.095238</td>\n",
       "    </tr>\n",
       "    <tr>\n",
       "      <th>2</th>\n",
       "      <td>1-Oct-2020</td>\n",
       "      <td>Morning</td>\n",
       "      <td>WA</td>\n",
       "      <td>Women</td>\n",
       "      <td>0.031746</td>\n",
       "      <td>0.031746</td>\n",
       "    </tr>\n",
       "    <tr>\n",
       "      <th>3</th>\n",
       "      <td>1-Oct-2020</td>\n",
       "      <td>Morning</td>\n",
       "      <td>WA</td>\n",
       "      <td>Seniors</td>\n",
       "      <td>0.206349</td>\n",
       "      <td>0.206349</td>\n",
       "    </tr>\n",
       "    <tr>\n",
       "      <th>4</th>\n",
       "      <td>1-Oct-2020</td>\n",
       "      <td>Afternoon</td>\n",
       "      <td>WA</td>\n",
       "      <td>Kids</td>\n",
       "      <td>0.015873</td>\n",
       "      <td>0.015873</td>\n",
       "    </tr>\n",
       "  </tbody>\n",
       "</table>\n",
       "</div>"
      ],
      "text/plain": [
       "         Date        Time State     Group      Unit     Sales\n",
       "0  1-Oct-2020     Morning    WA      Kids  0.095238  0.095238\n",
       "1  1-Oct-2020     Morning    WA       Men  0.095238  0.095238\n",
       "2  1-Oct-2020     Morning    WA     Women  0.031746  0.031746\n",
       "3  1-Oct-2020     Morning    WA   Seniors  0.206349  0.206349\n",
       "4  1-Oct-2020   Afternoon    WA      Kids  0.015873  0.015873"
      ]
     },
     "execution_count": 40,
     "metadata": {},
     "output_type": "execute_result"
    }
   ],
   "source": [
    "sales_nw.head()"
   ]
  },
  {
   "cell_type": "code",
   "execution_count": 43,
   "id": "69d39868-9ba1-4595-974c-acd5d33c8562",
   "metadata": {},
   "outputs": [
    {
     "data": {
      "text/html": [
       "<div>\n",
       "<style scoped>\n",
       "    .dataframe tbody tr th:only-of-type {\n",
       "        vertical-align: middle;\n",
       "    }\n",
       "\n",
       "    .dataframe tbody tr th {\n",
       "        vertical-align: top;\n",
       "    }\n",
       "\n",
       "    .dataframe thead th {\n",
       "        text-align: right;\n",
       "    }\n",
       "</style>\n",
       "<table border=\"1\" class=\"dataframe\">\n",
       "  <thead>\n",
       "    <tr style=\"text-align: right;\">\n",
       "      <th></th>\n",
       "      <th>Unit</th>\n",
       "      <th>Sales</th>\n",
       "    </tr>\n",
       "    <tr>\n",
       "      <th>Time</th>\n",
       "      <th></th>\n",
       "      <th></th>\n",
       "    </tr>\n",
       "  </thead>\n",
       "  <tbody>\n",
       "    <tr>\n",
       "      <th>Afternoon</th>\n",
       "      <td>643.857143</td>\n",
       "      <td>643.857143</td>\n",
       "    </tr>\n",
       "    <tr>\n",
       "      <th>Evening</th>\n",
       "      <td>631.666667</td>\n",
       "      <td>631.666667</td>\n",
       "    </tr>\n",
       "    <tr>\n",
       "      <th>Morning</th>\n",
       "      <td>645.126984</td>\n",
       "      <td>645.126984</td>\n",
       "    </tr>\n",
       "  </tbody>\n",
       "</table>\n",
       "</div>"
      ],
      "text/plain": [
       "                 Unit       Sales\n",
       "Time                             \n",
       "Afternoon  643.857143  643.857143\n",
       "Evening    631.666667  631.666667\n",
       "Morning    645.126984  645.126984"
      ]
     },
     "execution_count": 43,
     "metadata": {},
     "output_type": "execute_result"
    }
   ],
   "source": [
    "sales_nw.groupby('Time').sum('Sales')"
   ]
  },
  {
   "cell_type": "markdown",
   "id": "438b92a1-c89e-49fc-9d20-c723588f79ca",
   "metadata": {},
   "source": [
    "DATA ANALYSIS"
   ]
  },
  {
   "cell_type": "code",
   "execution_count": 48,
   "id": "cd915f1d-ad68-4f9e-ab35-4d8a221c0f7a",
   "metadata": {},
   "outputs": [
    {
     "name": "stdout",
     "output_type": "stream",
     "text": [
      "              Unit        Sales\n",
      "count  7560.000000  7560.000000\n",
      "mean      0.254054     0.254054\n",
      "std       0.204784     0.204784\n",
      "min       0.000000     0.000000\n",
      "25%       0.095238     0.095238\n",
      "50%       0.190476     0.190476\n",
      "75%       0.380952     0.380952\n",
      "max       1.000000     1.000000\n",
      "\n",
      "Mode of Units and Sales    Unit  Sales\n",
      "0     9  22500\n"
     ]
    }
   ],
   "source": [
    "print(sales_nw.describe())\n",
    "print()\n",
    "print(\"Mode of Units and Sales\", sales_data.mode())"
   ]
  },
  {
   "cell_type": "code",
   "execution_count": 51,
   "id": "ad12793d-07c7-4037-bcff-1de1d2bb6eb3",
   "metadata": {},
   "outputs": [
    {
     "name": "stdout",
     "output_type": "stream",
     "text": [
      "Highest Selling Group: Unit      Men\n",
      "Sales     Men\n",
      "dtype: object\n",
      "Lowest Selling Group: Unit      Seniors\n",
      "Sales     Seniors\n",
      "dtype: object\n"
     ]
    }
   ],
   "source": [
    "highest_sales_group=sales_nw.groupby('Group').sum('Sales').idxmax()\n",
    "lowest_sales_group=sales_nw.groupby('Group').sum('Sales').idxmin()\n",
    "print(\"Highest Selling Group:\", highest_sales_group)\n",
    "print(\"Lowest Selling Group:\", lowest_sales_group)"
   ]
  },
  {
   "cell_type": "code",
   "execution_count": 59,
   "id": "e1ae58aa-a730-4c79-aaba-fc50f7cf677f",
   "metadata": {},
   "outputs": [
    {
     "name": "stdout",
     "output_type": "stream",
     "text": [
      "        Date      Time State   Group      Unit     Sales\n",
      "0 2020-10-01   Morning    WA    Kids  0.095238  0.095238\n",
      "1 2020-10-01   Morning    WA     Men  0.095238  0.095238\n",
      "2 2020-10-01   Morning    WA   Women  0.031746  0.031746\n",
      "datetime64[ns]\n"
     ]
    }
   ],
   "source": [
    "sales_nw['Date'] = pd.to_datetime(sales_nw['Date'])\n",
    "print(sales_nw.head(3))\n",
    "print(sales_nw.Date.dtypes)\n"
   ]
  },
  {
   "cell_type": "code",
   "execution_count": 63,
   "id": "e704c462-6bd8-49c9-8994-2025e250aeac",
   "metadata": {},
   "outputs": [
    {
     "name": "stderr",
     "output_type": "stream",
     "text": [
      "C:\\Users\\drish\\AppData\\Local\\Temp\\ipykernel_12120\\4076368051.py:1: FutureWarning: The 'axis' keyword in DataFrame.groupby is deprecated and will be removed in a future version.\n",
      "  df_unit_sales= sales_nw.groupby(by = 'Date', axis= 'index').sum()\n"
     ]
    },
    {
     "data": {
      "text/html": [
       "<div>\n",
       "<style scoped>\n",
       "    .dataframe tbody tr th:only-of-type {\n",
       "        vertical-align: middle;\n",
       "    }\n",
       "\n",
       "    .dataframe tbody tr th {\n",
       "        vertical-align: top;\n",
       "    }\n",
       "\n",
       "    .dataframe thead th {\n",
       "        text-align: right;\n",
       "    }\n",
       "</style>\n",
       "<table border=\"1\" class=\"dataframe\">\n",
       "  <thead>\n",
       "    <tr style=\"text-align: right;\">\n",
       "      <th></th>\n",
       "      <th>Time</th>\n",
       "      <th>State</th>\n",
       "      <th>Group</th>\n",
       "      <th>Unit</th>\n",
       "      <th>Sales</th>\n",
       "    </tr>\n",
       "    <tr>\n",
       "      <th>Date</th>\n",
       "      <th></th>\n",
       "      <th></th>\n",
       "      <th></th>\n",
       "      <th></th>\n",
       "      <th></th>\n",
       "    </tr>\n",
       "  </thead>\n",
       "  <tbody>\n",
       "    <tr>\n",
       "      <th>2020-10-01</th>\n",
       "      <td>Morning Morning Morning Morning Afternoon Aft...</td>\n",
       "      <td>WA WA WA WA WA WA WA WA WA WA WA WA NT NT NT ...</td>\n",
       "      <td>Kids Men Women Seniors Kids Men Women Seniors...</td>\n",
       "      <td>20.952381</td>\n",
       "      <td>20.952381</td>\n",
       "    </tr>\n",
       "    <tr>\n",
       "      <th>2020-10-02</th>\n",
       "      <td>Morning Morning Morning Morning Afternoon Aft...</td>\n",
       "      <td>WA WA WA WA WA WA WA WA WA WA WA WA NT NT NT ...</td>\n",
       "      <td>Kids Men Women Seniors Kids Men Women Seniors...</td>\n",
       "      <td>20.920635</td>\n",
       "      <td>20.920635</td>\n",
       "    </tr>\n",
       "    <tr>\n",
       "      <th>2020-10-03</th>\n",
       "      <td>Morning Morning Morning Morning Afternoon Aft...</td>\n",
       "      <td>WA WA WA WA WA WA WA WA WA WA WA WA NT NT NT ...</td>\n",
       "      <td>Kids Men Women Seniors Kids Men Women Seniors...</td>\n",
       "      <td>22.031746</td>\n",
       "      <td>22.031746</td>\n",
       "    </tr>\n",
       "    <tr>\n",
       "      <th>2020-10-04</th>\n",
       "      <td>Morning Morning Morning Morning Afternoon Aft...</td>\n",
       "      <td>WA WA WA WA WA WA WA WA WA WA WA WA NT NT NT ...</td>\n",
       "      <td>Kids Men Women Seniors Kids Men Women Seniors...</td>\n",
       "      <td>20.952381</td>\n",
       "      <td>20.952381</td>\n",
       "    </tr>\n",
       "    <tr>\n",
       "      <th>2020-10-05</th>\n",
       "      <td>Morning Morning Morning Morning Afternoon Aft...</td>\n",
       "      <td>WA WA WA WA WA WA WA WA WA WA WA WA NT NT NT ...</td>\n",
       "      <td>Kids Men Women Seniors Kids Men Women Seniors...</td>\n",
       "      <td>21.857143</td>\n",
       "      <td>21.857143</td>\n",
       "    </tr>\n",
       "  </tbody>\n",
       "</table>\n",
       "</div>"
      ],
      "text/plain": [
       "                                                         Time  \\\n",
       "Date                                                            \n",
       "2020-10-01   Morning Morning Morning Morning Afternoon Aft...   \n",
       "2020-10-02   Morning Morning Morning Morning Afternoon Aft...   \n",
       "2020-10-03   Morning Morning Morning Morning Afternoon Aft...   \n",
       "2020-10-04   Morning Morning Morning Morning Afternoon Aft...   \n",
       "2020-10-05   Morning Morning Morning Morning Afternoon Aft...   \n",
       "\n",
       "                                                        State  \\\n",
       "Date                                                            \n",
       "2020-10-01   WA WA WA WA WA WA WA WA WA WA WA WA NT NT NT ...   \n",
       "2020-10-02   WA WA WA WA WA WA WA WA WA WA WA WA NT NT NT ...   \n",
       "2020-10-03   WA WA WA WA WA WA WA WA WA WA WA WA NT NT NT ...   \n",
       "2020-10-04   WA WA WA WA WA WA WA WA WA WA WA WA NT NT NT ...   \n",
       "2020-10-05   WA WA WA WA WA WA WA WA WA WA WA WA NT NT NT ...   \n",
       "\n",
       "                                                        Group       Unit  \\\n",
       "Date                                                                       \n",
       "2020-10-01   Kids Men Women Seniors Kids Men Women Seniors...  20.952381   \n",
       "2020-10-02   Kids Men Women Seniors Kids Men Women Seniors...  20.920635   \n",
       "2020-10-03   Kids Men Women Seniors Kids Men Women Seniors...  22.031746   \n",
       "2020-10-04   Kids Men Women Seniors Kids Men Women Seniors...  20.952381   \n",
       "2020-10-05   Kids Men Women Seniors Kids Men Women Seniors...  21.857143   \n",
       "\n",
       "                Sales  \n",
       "Date                   \n",
       "2020-10-01  20.952381  \n",
       "2020-10-02  20.920635  \n",
       "2020-10-03  22.031746  \n",
       "2020-10-04  20.952381  \n",
       "2020-10-05  21.857143  "
      ]
     },
     "execution_count": 63,
     "metadata": {},
     "output_type": "execute_result"
    }
   ],
   "source": [
    "df_unit_sales= sales_nw.groupby(by = 'Date', axis= 'index').sum()\n",
    "df_unit_sales.head()"
   ]
  },
  {
   "cell_type": "code",
   "execution_count": 66,
   "id": "23f49edd-9fc2-4971-bcd9-21851a70927d",
   "metadata": {},
   "outputs": [
    {
     "name": "stdout",
     "output_type": "stream",
     "text": [
      "                                                         Time  \\\n",
      "Date                                                            \n",
      "2020-10-01   Morning Morning Morning Morning Afternoon Aft...   \n",
      "2020-10-02   Morning Morning Morning Morning Afternoon Aft...   \n",
      "2020-10-03   Morning Morning Morning Morning Afternoon Aft...   \n",
      "2020-10-04   Morning Morning Morning Morning Afternoon Aft...   \n",
      "2020-10-05   Morning Morning Morning Morning Afternoon Aft...   \n",
      "2020-10-06   Morning Morning Morning Morning Afternoon Aft...   \n",
      "2020-10-07   Morning Morning Morning Morning Afternoon Aft...   \n",
      "2020-10-08   Morning Morning Morning Morning Afternoon Aft...   \n",
      "2020-10-09   Morning Morning Morning Morning Afternoon Aft...   \n",
      "2020-10-10   Morning Morning Morning Morning Afternoon Aft...   \n",
      "2020-10-11   Morning Morning Morning Morning Afternoon Aft...   \n",
      "2020-10-12   Morning Morning Morning Morning Afternoon Aft...   \n",
      "2020-10-13   Morning Morning Morning Morning Afternoon Aft...   \n",
      "2020-10-14   Morning Morning Morning Morning Afternoon Aft...   \n",
      "2020-10-15   Morning Morning Morning Morning Afternoon Aft...   \n",
      "2020-10-16   Morning Morning Morning Morning Afternoon Aft...   \n",
      "2020-10-17   Morning Morning Morning Morning Afternoon Aft...   \n",
      "2020-10-18   Morning Morning Morning Morning Afternoon Aft...   \n",
      "2020-10-19   Morning Morning Morning Morning Afternoon Aft...   \n",
      "2020-10-20   Morning Morning Morning Morning Afternoon Aft...   \n",
      "2020-10-21   Morning Morning Morning Morning Afternoon Aft...   \n",
      "2020-10-22   Morning Morning Morning Morning Afternoon Aft...   \n",
      "2020-10-23   Morning Morning Morning Morning Afternoon Aft...   \n",
      "2020-10-24   Morning Morning Morning Morning Afternoon Aft...   \n",
      "2020-10-25   Morning Morning Morning Morning Afternoon Aft...   \n",
      "2020-10-26   Morning Morning Morning Morning Afternoon Aft...   \n",
      "2020-10-27   Morning Morning Morning Morning Afternoon Aft...   \n",
      "2020-10-28   Morning Morning Morning Morning Afternoon Aft...   \n",
      "2020-10-29   Morning Morning Morning Morning Afternoon Aft...   \n",
      "2020-10-30   Morning Morning Morning Morning Afternoon Aft...   \n",
      "\n",
      "                                                        State  \\\n",
      "Date                                                            \n",
      "2020-10-01   WA WA WA WA WA WA WA WA WA WA WA WA NT NT NT ...   \n",
      "2020-10-02   WA WA WA WA WA WA WA WA WA WA WA WA NT NT NT ...   \n",
      "2020-10-03   WA WA WA WA WA WA WA WA WA WA WA WA NT NT NT ...   \n",
      "2020-10-04   WA WA WA WA WA WA WA WA WA WA WA WA NT NT NT ...   \n",
      "2020-10-05   WA WA WA WA WA WA WA WA WA WA WA WA NT NT NT ...   \n",
      "2020-10-06   WA WA WA WA WA WA WA WA WA WA WA WA NT NT NT ...   \n",
      "2020-10-07   WA WA WA WA WA WA WA WA WA WA WA WA NT NT NT ...   \n",
      "2020-10-08   WA WA WA WA WA WA WA WA WA WA WA WA NT NT NT ...   \n",
      "2020-10-09   WA WA WA WA WA WA WA WA WA WA WA WA NT NT NT ...   \n",
      "2020-10-10   WA WA WA WA WA WA WA WA WA WA WA WA NT NT NT ...   \n",
      "2020-10-11   WA WA WA WA WA WA WA WA WA WA WA WA NT NT NT ...   \n",
      "2020-10-12   WA WA WA WA WA WA WA WA WA WA WA WA NT NT NT ...   \n",
      "2020-10-13   WA WA WA WA WA WA WA WA WA WA WA WA NT NT NT ...   \n",
      "2020-10-14   WA WA WA WA WA WA WA WA WA WA WA WA NT NT NT ...   \n",
      "2020-10-15   WA WA WA WA WA WA WA WA WA WA WA WA NT NT NT ...   \n",
      "2020-10-16   WA WA WA WA WA WA WA WA WA WA WA WA NT NT NT ...   \n",
      "2020-10-17   WA WA WA WA WA WA WA WA WA WA WA WA NT NT NT ...   \n",
      "2020-10-18   WA WA WA WA WA WA WA WA WA WA WA WA NT NT NT ...   \n",
      "2020-10-19   WA WA WA WA WA WA WA WA WA WA WA WA NT NT NT ...   \n",
      "2020-10-20   WA WA WA WA WA WA WA WA WA WA WA WA NT NT NT ...   \n",
      "2020-10-21   WA WA WA WA WA WA WA WA WA WA WA WA NT NT NT ...   \n",
      "2020-10-22   WA WA WA WA WA WA WA WA WA WA WA WA NT NT NT ...   \n",
      "2020-10-23   WA WA WA WA WA WA WA WA WA WA WA WA NT NT NT ...   \n",
      "2020-10-24   WA WA WA WA WA WA WA WA WA WA WA WA NT NT NT ...   \n",
      "2020-10-25   WA WA WA WA WA WA WA WA WA WA WA WA NT NT NT ...   \n",
      "2020-10-26   WA WA WA WA WA WA WA WA WA WA WA WA NT NT NT ...   \n",
      "2020-10-27   WA WA WA WA WA WA WA WA WA WA WA WA NT NT NT ...   \n",
      "2020-10-28   WA WA WA WA WA WA WA WA WA WA WA WA NT NT NT ...   \n",
      "2020-10-29   WA WA WA WA WA WA WA WA WA WA WA WA NT NT NT ...   \n",
      "2020-10-30   WA WA WA WA WA WA WA WA WA WA WA WA NT NT NT ...   \n",
      "\n",
      "                                                        Group       Unit  \\\n",
      "Date                                                                       \n",
      "2020-10-01   Kids Men Women Seniors Kids Men Women Seniors...  20.952381   \n",
      "2020-10-02   Kids Men Women Seniors Kids Men Women Seniors...  20.920635   \n",
      "2020-10-03   Kids Men Women Seniors Kids Men Women Seniors...  22.031746   \n",
      "2020-10-04   Kids Men Women Seniors Kids Men Women Seniors...  20.952381   \n",
      "2020-10-05   Kids Men Women Seniors Kids Men Women Seniors...  21.857143   \n",
      "2020-10-06   Kids Men Women Seniors Kids Men Women Seniors...  22.476190   \n",
      "2020-10-07   Kids Men Women Seniors Kids Men Women Seniors...  20.904762   \n",
      "2020-10-08   Kids Men Women Seniors Kids Men Women Seniors...  22.380952   \n",
      "2020-10-09   Kids Men Women Seniors Kids Men Women Seniors...  20.476190   \n",
      "2020-10-10   Kids Men Women Seniors Kids Men Women Seniors...  22.761905   \n",
      "2020-10-11   Kids Men Women Seniors Kids Men Women Seniors...  21.920635   \n",
      "2020-10-12   Kids Men Women Seniors Kids Men Women Seniors...  21.428571   \n",
      "2020-10-13   Kids Men Women Seniors Kids Men Women Seniors...  21.793651   \n",
      "2020-10-14   Kids Men Women Seniors Kids Men Women Seniors...  22.444444   \n",
      "2020-10-15   Kids Men Women Seniors Kids Men Women Seniors...  21.333333   \n",
      "2020-10-16   Kids Men Women Seniors Kids Men Women Seniors...  21.428571   \n",
      "2020-10-17   Kids Men Women Seniors Kids Men Women Seniors...  21.523810   \n",
      "2020-10-18   Kids Men Women Seniors Kids Men Women Seniors...  20.523810   \n",
      "2020-10-19   Kids Men Women Seniors Kids Men Women Seniors...  22.476190   \n",
      "2020-10-20   Kids Men Women Seniors Kids Men Women Seniors...  20.634921   \n",
      "2020-10-21   Kids Men Women Seniors Kids Men Women Seniors...  22.158730   \n",
      "2020-10-22   Kids Men Women Seniors Kids Men Women Seniors...  21.206349   \n",
      "2020-10-23   Kids Men Women Seniors Kids Men Women Seniors...  20.587302   \n",
      "2020-10-24   Kids Men Women Seniors Kids Men Women Seniors...  22.587302   \n",
      "2020-10-25   Kids Men Women Seniors Kids Men Women Seniors...  21.936508   \n",
      "2020-10-26   Kids Men Women Seniors Kids Men Women Seniors...  21.047619   \n",
      "2020-10-27   Kids Men Women Seniors Kids Men Women Seniors...  20.936508   \n",
      "2020-10-28   Kids Men Women Seniors Kids Men Women Seniors...  20.888889   \n",
      "2020-10-29   Kids Men Women Seniors Kids Men Women Seniors...  21.603175   \n",
      "2020-10-30   Kids Men Women Seniors Kids Men Women Seniors...  21.476190   \n",
      "\n",
      "                Sales  \n",
      "Date                   \n",
      "2020-10-01  20.952381  \n",
      "2020-10-02  20.920635  \n",
      "2020-10-03  22.031746  \n",
      "2020-10-04  20.952381  \n",
      "2020-10-05  21.857143  \n",
      "2020-10-06  22.476190  \n",
      "2020-10-07  20.904762  \n",
      "2020-10-08  22.380952  \n",
      "2020-10-09  20.476190  \n",
      "2020-10-10  22.761905  \n",
      "2020-10-11  21.920635  \n",
      "2020-10-12  21.428571  \n",
      "2020-10-13  21.793651  \n",
      "2020-10-14  22.444444  \n",
      "2020-10-15  21.333333  \n",
      "2020-10-16  21.428571  \n",
      "2020-10-17  21.523810  \n",
      "2020-10-18  20.523810  \n",
      "2020-10-19  22.476190  \n",
      "2020-10-20  20.634921  \n",
      "2020-10-21  22.158730  \n",
      "2020-10-22  21.206349  \n",
      "2020-10-23  20.587302  \n",
      "2020-10-24  22.587302  \n",
      "2020-10-25  21.936508  \n",
      "2020-10-26  21.047619  \n",
      "2020-10-27  20.936508  \n",
      "2020-10-28  20.888889  \n",
      "2020-10-29  21.603175  \n",
      "2020-10-30  21.476190  \n"
     ]
    }
   ],
   "source": [
    "df_oct= df_unit_sales.loc['2020-10-01': '2020-10-31']\n",
    "print(df_oct)"
   ]
  },
  {
   "cell_type": "code",
   "execution_count": 69,
   "id": "dedb20d8-71eb-492d-bff8-c793bf2aa407",
   "metadata": {},
   "outputs": [
    {
     "name": "stdout",
     "output_type": "stream",
     "text": [
      "                                                         Time  \\\n",
      "Date                                                            \n",
      "2020-11-01   Morning Morning Morning Morning Afternoon Aft...   \n",
      "2020-11-02   Morning Morning Morning Morning Afternoon Aft...   \n",
      "2020-11-03   Morning Morning Morning Morning Afternoon Aft...   \n",
      "2020-11-04   Morning Morning Morning Morning Afternoon Aft...   \n",
      "2020-11-05   Morning Morning Morning Morning Afternoon Aft...   \n",
      "2020-11-06   Morning Morning Morning Morning Afternoon Aft...   \n",
      "2020-11-07   Morning Morning Morning Morning Afternoon Aft...   \n",
      "2020-11-08   Morning Morning Morning Morning Afternoon Aft...   \n",
      "2020-11-09   Morning Morning Morning Morning Afternoon Aft...   \n",
      "2020-11-10   Morning Morning Morning Morning Afternoon Aft...   \n",
      "2020-11-11   Morning Morning Morning Morning Afternoon Aft...   \n",
      "2020-11-12   Morning Morning Morning Morning Afternoon Aft...   \n",
      "2020-11-13   Morning Morning Morning Morning Afternoon Aft...   \n",
      "2020-11-14   Morning Morning Morning Morning Afternoon Aft...   \n",
      "2020-11-15   Morning Morning Morning Morning Afternoon Aft...   \n",
      "2020-11-16   Morning Morning Morning Morning Afternoon Aft...   \n",
      "2020-11-17   Morning Morning Morning Morning Afternoon Aft...   \n",
      "2020-11-18   Morning Morning Morning Morning Afternoon Aft...   \n",
      "2020-11-19   Morning Morning Morning Morning Afternoon Aft...   \n",
      "2020-11-20   Morning Morning Morning Morning Afternoon Aft...   \n",
      "2020-11-21   Morning Morning Morning Morning Afternoon Aft...   \n",
      "2020-11-22   Morning Morning Morning Morning Afternoon Aft...   \n",
      "2020-11-23   Morning Morning Morning Morning Afternoon Aft...   \n",
      "2020-11-24   Morning Morning Morning Morning Afternoon Aft...   \n",
      "2020-11-25   Morning Morning Morning Morning Afternoon Aft...   \n",
      "2020-11-26   Morning Morning Morning Morning Afternoon Aft...   \n",
      "2020-11-27   Morning Morning Morning Morning Afternoon Aft...   \n",
      "2020-11-28   Morning Morning Morning Morning Afternoon Aft...   \n",
      "2020-11-29   Morning Morning Morning Morning Afternoon Aft...   \n",
      "2020-11-30   Morning Morning Morning Morning Afternoon Aft...   \n",
      "\n",
      "                                                        State  \\\n",
      "Date                                                            \n",
      "2020-11-01   WA WA WA WA WA WA WA WA WA WA WA WA NT NT NT ...   \n",
      "2020-11-02   WA WA WA WA WA WA WA WA WA WA WA WA NT NT NT ...   \n",
      "2020-11-03   WA WA WA WA WA WA WA WA WA WA WA WA NT NT NT ...   \n",
      "2020-11-04   WA WA WA WA WA WA WA WA WA WA WA WA NT NT NT ...   \n",
      "2020-11-05   WA WA WA WA WA WA WA WA WA WA WA WA NT NT NT ...   \n",
      "2020-11-06   WA WA WA WA WA WA WA WA WA WA WA WA NT NT NT ...   \n",
      "2020-11-07   WA WA WA WA WA WA WA WA WA WA WA WA NT NT NT ...   \n",
      "2020-11-08   WA WA WA WA WA WA WA WA WA WA WA WA NT NT NT ...   \n",
      "2020-11-09   WA WA WA WA WA WA WA WA WA WA WA WA NT NT NT ...   \n",
      "2020-11-10   WA WA WA WA WA WA WA WA WA WA WA WA NT NT NT ...   \n",
      "2020-11-11   WA WA WA WA WA WA WA WA WA WA WA WA NT NT NT ...   \n",
      "2020-11-12   WA WA WA WA WA WA WA WA WA WA WA WA NT NT NT ...   \n",
      "2020-11-13   WA WA WA WA WA WA WA WA WA WA WA WA NT NT NT ...   \n",
      "2020-11-14   WA WA WA WA WA WA WA WA WA WA WA WA NT NT NT ...   \n",
      "2020-11-15   WA WA WA WA WA WA WA WA WA WA WA WA NT NT NT ...   \n",
      "2020-11-16   WA WA WA WA WA WA WA WA WA WA WA WA NT NT NT ...   \n",
      "2020-11-17   WA WA WA WA WA WA WA WA WA WA WA WA NT NT NT ...   \n",
      "2020-11-18   WA WA WA WA WA WA WA WA WA WA WA WA NT NT NT ...   \n",
      "2020-11-19   WA WA WA WA WA WA WA WA WA WA WA WA NT NT NT ...   \n",
      "2020-11-20   WA WA WA WA WA WA WA WA WA WA WA WA NT NT NT ...   \n",
      "2020-11-21   WA WA WA WA WA WA WA WA WA WA WA WA NT NT NT ...   \n",
      "2020-11-22   WA WA WA WA WA WA WA WA WA WA WA WA NT NT NT ...   \n",
      "2020-11-23   WA WA WA WA WA WA WA WA WA WA WA WA NT NT NT ...   \n",
      "2020-11-24   WA WA WA WA WA WA WA WA WA WA WA WA NT NT NT ...   \n",
      "2020-11-25   WA WA WA WA WA WA WA WA WA WA WA WA NT NT NT ...   \n",
      "2020-11-26   WA WA WA WA WA WA WA WA WA WA WA WA NT NT NT ...   \n",
      "2020-11-27   WA WA WA WA WA WA WA WA WA WA WA WA NT NT NT ...   \n",
      "2020-11-28   WA WA WA WA WA WA WA WA WA WA WA WA NT NT NT ...   \n",
      "2020-11-29   WA WA WA WA WA WA WA WA WA WA WA WA NT NT NT ...   \n",
      "2020-11-30   WA WA WA WA WA WA WA WA WA WA WA WA NT NT NT ...   \n",
      "\n",
      "                                                        Group       Unit  \\\n",
      "Date                                                                       \n",
      "2020-11-01   Kids Men Women Seniors Kids Men Women Seniors...  16.507937   \n",
      "2020-11-02   Kids Men Women Seniors Kids Men Women Seniors...  14.634921   \n",
      "2020-11-03   Kids Men Women Seniors Kids Men Women Seniors...  15.603175   \n",
      "2020-11-04   Kids Men Women Seniors Kids Men Women Seniors...  17.285714   \n",
      "2020-11-05   Kids Men Women Seniors Kids Men Women Seniors...  16.857143   \n",
      "2020-11-06   Kids Men Women Seniors Kids Men Women Seniors...  15.333333   \n",
      "2020-11-07   Kids Men Women Seniors Kids Men Women Seniors...  16.380952   \n",
      "2020-11-08   Kids Men Women Seniors Kids Men Women Seniors...  17.714286   \n",
      "2020-11-09   Kids Men Women Seniors Kids Men Women Seniors...  15.904762   \n",
      "2020-11-10   Kids Men Women Seniors Kids Men Women Seniors...  16.333333   \n",
      "2020-11-11   Kids Men Women Seniors Kids Men Women Seniors...  15.571429   \n",
      "2020-11-12   Kids Men Women Seniors Kids Men Women Seniors...  16.761905   \n",
      "2020-11-13   Kids Men Women Seniors Kids Men Women Seniors...  16.603175   \n",
      "2020-11-14   Kids Men Women Seniors Kids Men Women Seniors...  17.428571   \n",
      "2020-11-15   Kids Men Women Seniors Kids Men Women Seniors...  17.158730   \n",
      "2020-11-16   Kids Men Women Seniors Kids Men Women Seniors...  16.349206   \n",
      "2020-11-17   Kids Men Women Seniors Kids Men Women Seniors...  18.222222   \n",
      "2020-11-18   Kids Men Women Seniors Kids Men Women Seniors...  15.603175   \n",
      "2020-11-19   Kids Men Women Seniors Kids Men Women Seniors...  15.777778   \n",
      "2020-11-20   Kids Men Women Seniors Kids Men Women Seniors...  16.333333   \n",
      "2020-11-21   Kids Men Women Seniors Kids Men Women Seniors...  17.555556   \n",
      "2020-11-22   Kids Men Women Seniors Kids Men Women Seniors...  15.539683   \n",
      "2020-11-23   Kids Men Women Seniors Kids Men Women Seniors...  16.825397   \n",
      "2020-11-24   Kids Men Women Seniors Kids Men Women Seniors...  16.523810   \n",
      "2020-11-25   Kids Men Women Seniors Kids Men Women Seniors...  16.809524   \n",
      "2020-11-26   Kids Men Women Seniors Kids Men Women Seniors...  16.857143   \n",
      "2020-11-27   Kids Men Women Seniors Kids Men Women Seniors...  16.269841   \n",
      "2020-11-28   Kids Men Women Seniors Kids Men Women Seniors...  16.539683   \n",
      "2020-11-29   Kids Men Women Seniors Kids Men Women Seniors...  17.873016   \n",
      "2020-11-30   Kids Men Women Seniors Kids Men Women Seniors...  16.603175   \n",
      "\n",
      "                Sales  \n",
      "Date                   \n",
      "2020-11-01  16.507937  \n",
      "2020-11-02  14.634921  \n",
      "2020-11-03  15.603175  \n",
      "2020-11-04  17.285714  \n",
      "2020-11-05  16.857143  \n",
      "2020-11-06  15.333333  \n",
      "2020-11-07  16.380952  \n",
      "2020-11-08  17.714286  \n",
      "2020-11-09  15.904762  \n",
      "2020-11-10  16.333333  \n",
      "2020-11-11  15.571429  \n",
      "2020-11-12  16.761905  \n",
      "2020-11-13  16.603175  \n",
      "2020-11-14  17.428571  \n",
      "2020-11-15  17.158730  \n",
      "2020-11-16  16.349206  \n",
      "2020-11-17  18.222222  \n",
      "2020-11-18  15.603175  \n",
      "2020-11-19  15.777778  \n",
      "2020-11-20  16.333333  \n",
      "2020-11-21  17.555556  \n",
      "2020-11-22  15.539683  \n",
      "2020-11-23  16.825397  \n",
      "2020-11-24  16.523810  \n",
      "2020-11-25  16.809524  \n",
      "2020-11-26  16.857143  \n",
      "2020-11-27  16.269841  \n",
      "2020-11-28  16.539683  \n",
      "2020-11-29  17.873016  \n",
      "2020-11-30  16.603175  \n"
     ]
    }
   ],
   "source": [
    "df_nov= df_unit_sales.loc['2020-11-01': '2020-11-30']\n",
    "print(df_nov)"
   ]
  },
  {
   "cell_type": "code",
   "execution_count": 72,
   "id": "b002a723-7b6d-423b-8d01-63c6630475e7",
   "metadata": {},
   "outputs": [
    {
     "name": "stdout",
     "output_type": "stream",
     "text": [
      "                                                         Time  \\\n",
      "Date                                                            \n",
      "2020-12-01   Morning Morning Morning Morning Afternoon Aft...   \n",
      "2020-12-02   Morning Morning Morning Morning Afternoon Aft...   \n",
      "2020-12-03   Morning Morning Morning Morning Afternoon Aft...   \n",
      "2020-12-04   Morning Morning Morning Morning Afternoon Aft...   \n",
      "2020-12-05   Morning Morning Morning Morning Afternoon Aft...   \n",
      "2020-12-06   Morning Morning Morning Morning Afternoon Aft...   \n",
      "2020-12-07   Morning Morning Morning Morning Afternoon Aft...   \n",
      "2020-12-08   Morning Morning Morning Morning Afternoon Aft...   \n",
      "2020-12-09   Morning Morning Morning Morning Afternoon Aft...   \n",
      "2020-12-10   Morning Morning Morning Morning Afternoon Aft...   \n",
      "2020-12-11   Morning Morning Morning Morning Afternoon Aft...   \n",
      "2020-12-12   Morning Morning Morning Morning Afternoon Aft...   \n",
      "2020-12-13   Morning Morning Morning Morning Afternoon Aft...   \n",
      "2020-12-14   Morning Morning Morning Morning Afternoon Aft...   \n",
      "2020-12-15   Morning Morning Morning Morning Afternoon Aft...   \n",
      "2020-12-16   Morning Morning Morning Morning Afternoon Aft...   \n",
      "2020-12-17   Morning Morning Morning Morning Afternoon Aft...   \n",
      "2020-12-18   Morning Morning Morning Morning Afternoon Aft...   \n",
      "2020-12-19   Morning Morning Morning Morning Afternoon Aft...   \n",
      "2020-12-20   Morning Morning Morning Morning Afternoon Aft...   \n",
      "2020-12-21   Morning Morning Morning Morning Afternoon Aft...   \n",
      "2020-12-22   Morning Morning Morning Morning Afternoon Aft...   \n",
      "2020-12-23   Morning Morning Morning Morning Afternoon Aft...   \n",
      "2020-12-24   Morning Morning Morning Morning Afternoon Aft...   \n",
      "2020-12-25   Morning Morning Morning Morning Afternoon Aft...   \n",
      "2020-12-26   Morning Morning Morning Morning Afternoon Aft...   \n",
      "2020-12-27   Morning Morning Morning Morning Afternoon Aft...   \n",
      "2020-12-28   Morning Morning Morning Morning Afternoon Aft...   \n",
      "2020-12-29   Morning Morning Morning Morning Afternoon Aft...   \n",
      "2020-12-30   Morning Morning Morning Morning Afternoon Aft...   \n",
      "\n",
      "                                                        State  \\\n",
      "Date                                                            \n",
      "2020-12-01   WA WA WA WA WA WA WA WA WA WA WA WA NT NT NT ...   \n",
      "2020-12-02   WA WA WA WA WA WA WA WA WA WA WA WA NT NT NT ...   \n",
      "2020-12-03   WA WA WA WA WA WA WA WA WA WA WA WA NT NT NT ...   \n",
      "2020-12-04   WA WA WA WA WA WA WA WA WA WA WA WA NT NT NT ...   \n",
      "2020-12-05   WA WA WA WA WA WA WA WA WA WA WA WA NT NT NT ...   \n",
      "2020-12-06   WA WA WA WA WA WA WA WA WA WA WA WA NT NT NT ...   \n",
      "2020-12-07   WA WA WA WA WA WA WA WA WA WA WA WA NT NT NT ...   \n",
      "2020-12-08   WA WA WA WA WA WA WA WA WA WA WA WA NT NT NT ...   \n",
      "2020-12-09   WA WA WA WA WA WA WA WA WA WA WA WA NT NT NT ...   \n",
      "2020-12-10   WA WA WA WA WA WA WA WA WA WA WA WA NT NT NT ...   \n",
      "2020-12-11   WA WA WA WA WA WA WA WA WA WA WA WA NT NT NT ...   \n",
      "2020-12-12   WA WA WA WA WA WA WA WA WA WA WA WA NT NT NT ...   \n",
      "2020-12-13   WA WA WA WA WA WA WA WA WA WA WA WA NT NT NT ...   \n",
      "2020-12-14   WA WA WA WA WA WA WA WA WA WA WA WA NT NT NT ...   \n",
      "2020-12-15   WA WA WA WA WA WA WA WA WA WA WA WA NT NT NT ...   \n",
      "2020-12-16   WA WA WA WA WA WA WA WA WA WA WA WA NT NT NT ...   \n",
      "2020-12-17   WA WA WA WA WA WA WA WA WA WA WA WA NT NT NT ...   \n",
      "2020-12-18   WA WA WA WA WA WA WA WA WA WA WA WA NT NT NT ...   \n",
      "2020-12-19   WA WA WA WA WA WA WA WA WA WA WA WA NT NT NT ...   \n",
      "2020-12-20   WA WA WA WA WA WA WA WA WA WA WA WA NT NT NT ...   \n",
      "2020-12-21   WA WA WA WA WA WA WA WA WA WA WA WA NT NT NT ...   \n",
      "2020-12-22   WA WA WA WA WA WA WA WA WA WA WA WA NT NT NT ...   \n",
      "2020-12-23   WA WA WA WA WA WA WA WA WA WA WA WA NT NT NT ...   \n",
      "2020-12-24   WA WA WA WA WA WA WA WA WA WA WA WA NT NT NT ...   \n",
      "2020-12-25   WA WA WA WA WA WA WA WA WA WA WA WA NT NT NT ...   \n",
      "2020-12-26   WA WA WA WA WA WA WA WA WA WA WA WA NT NT NT ...   \n",
      "2020-12-27   WA WA WA WA WA WA WA WA WA WA WA WA NT NT NT ...   \n",
      "2020-12-28   WA WA WA WA WA WA WA WA WA WA WA WA NT NT NT ...   \n",
      "2020-12-29   WA WA WA WA WA WA WA WA WA WA WA WA NT NT NT ...   \n",
      "2020-12-30   WA WA WA WA WA WA WA WA WA WA WA WA NT NT NT ...   \n",
      "\n",
      "                                                        Group       Unit  \\\n",
      "Date                                                                       \n",
      "2020-12-01   Kids Men Women Seniors Kids Men Women Seniors...  25.682540   \n",
      "2020-12-02   Kids Men Women Seniors Kids Men Women Seniors...  26.317460   \n",
      "2020-12-03   Kids Men Women Seniors Kids Men Women Seniors...  25.634921   \n",
      "2020-12-04   Kids Men Women Seniors Kids Men Women Seniors...  25.793651   \n",
      "2020-12-05   Kids Men Women Seniors Kids Men Women Seniors...  26.269841   \n",
      "2020-12-06   Kids Men Women Seniors Kids Men Women Seniors...  23.111111   \n",
      "2020-12-07   Kids Men Women Seniors Kids Men Women Seniors...  24.190476   \n",
      "2020-12-08   Kids Men Women Seniors Kids Men Women Seniors...  26.412698   \n",
      "2020-12-09   Kids Men Women Seniors Kids Men Women Seniors...  26.888889   \n",
      "2020-12-10   Kids Men Women Seniors Kids Men Women Seniors...  27.285714   \n",
      "2020-12-11   Kids Men Women Seniors Kids Men Women Seniors...  24.809524   \n",
      "2020-12-12   Kids Men Women Seniors Kids Men Women Seniors...  25.333333   \n",
      "2020-12-13   Kids Men Women Seniors Kids Men Women Seniors...  26.571429   \n",
      "2020-12-14   Kids Men Women Seniors Kids Men Women Seniors...  27.587302   \n",
      "2020-12-15   Kids Men Women Seniors Kids Men Women Seniors...  26.904762   \n",
      "2020-12-16   Kids Men Women Seniors Kids Men Women Seniors...  25.492063   \n",
      "2020-12-17   Kids Men Women Seniors Kids Men Women Seniors...  25.936508   \n",
      "2020-12-18   Kids Men Women Seniors Kids Men Women Seniors...  24.857143   \n",
      "2020-12-19   Kids Men Women Seniors Kids Men Women Seniors...  25.936508   \n",
      "2020-12-20   Kids Men Women Seniors Kids Men Women Seniors...  25.603175   \n",
      "2020-12-21   Kids Men Women Seniors Kids Men Women Seniors...  25.000000   \n",
      "2020-12-22   Kids Men Women Seniors Kids Men Women Seniors...  26.761905   \n",
      "2020-12-23   Kids Men Women Seniors Kids Men Women Seniors...  25.603175   \n",
      "2020-12-24   Kids Men Women Seniors Kids Men Women Seniors...  26.428571   \n",
      "2020-12-25   Kids Men Women Seniors Kids Men Women Seniors...  25.206349   \n",
      "2020-12-26   Kids Men Women Seniors Kids Men Women Seniors...  27.269841   \n",
      "2020-12-27   Kids Men Women Seniors Kids Men Women Seniors...  26.777778   \n",
      "2020-12-28   Kids Men Women Seniors Kids Men Women Seniors...  26.507937   \n",
      "2020-12-29   Kids Men Women Seniors Kids Men Women Seniors...  26.587302   \n",
      "2020-12-30   Kids Men Women Seniors Kids Men Women Seniors...  26.476190   \n",
      "\n",
      "                Sales  \n",
      "Date                   \n",
      "2020-12-01  25.682540  \n",
      "2020-12-02  26.317460  \n",
      "2020-12-03  25.634921  \n",
      "2020-12-04  25.793651  \n",
      "2020-12-05  26.269841  \n",
      "2020-12-06  23.111111  \n",
      "2020-12-07  24.190476  \n",
      "2020-12-08  26.412698  \n",
      "2020-12-09  26.888889  \n",
      "2020-12-10  27.285714  \n",
      "2020-12-11  24.809524  \n",
      "2020-12-12  25.333333  \n",
      "2020-12-13  26.571429  \n",
      "2020-12-14  27.587302  \n",
      "2020-12-15  26.904762  \n",
      "2020-12-16  25.492063  \n",
      "2020-12-17  25.936508  \n",
      "2020-12-18  24.857143  \n",
      "2020-12-19  25.936508  \n",
      "2020-12-20  25.603175  \n",
      "2020-12-21  25.000000  \n",
      "2020-12-22  26.761905  \n",
      "2020-12-23  25.603175  \n",
      "2020-12-24  26.428571  \n",
      "2020-12-25  25.206349  \n",
      "2020-12-26  27.269841  \n",
      "2020-12-27  26.777778  \n",
      "2020-12-28  26.507937  \n",
      "2020-12-29  26.587302  \n",
      "2020-12-30  26.476190  \n"
     ]
    }
   ],
   "source": [
    "df_dec= df_unit_sales.loc['2020-12-01': '2020-12-31']\n",
    "print(df_dec)"
   ]
  },
  {
   "cell_type": "code",
   "execution_count": 75,
   "id": "104b7ee5-5d39-4c9b-967b-39e263082649",
   "metadata": {},
   "outputs": [
    {
     "data": {
      "image/png": "[encoded data removed]",
      "text/plain": [
       "<Figure size 640x480 with 3 Axes>"
      ]
     },
     "metadata": {},
     "output_type": "display_data"
    }
   ],
   "source": [
    "fig,axes =plt.subplots(1, 3)\n",
    "boxplot_oct= sns.boxplot(x='Sales', data = df_oct, ax=axes[0])\n",
    "boxplot_nov= sns.boxplot(x='Sales', data = df_nov, ax=axes[1])\n",
    "boxplot_dec= sns.boxplot(x='Sales', data = df_dec, ax=axes[2])\n",
    "boxplot_oct.set(title= \"October Sales\")\n",
    "boxplot_nov.set(title= \"November Sales\")\n",
    "boxplot_dec.set(title= \"December Sales\")\n",
    "plt.show()\n",
    "                         "
   ]
  },
  {
   "cell_type": "code",
   "execution_count": 78,
   "id": "38c09c1c-4db9-4d54-8a89-9236e84589bb",
   "metadata": {},
   "outputs": [
    {
     "data": {
      "image/png": "[encoded data removed]",
      "text/plain": [
       "<Figure size 640x480 with 1 Axes>"
      ]
     },
     "metadata": {},
     "output_type": "display_data"
    }
   ],
   "source": [
    "#how much does sales vary over time?\n",
    "sns.lineplot(x='Date', y= 'Sales', data=sales_nw)\n",
    "plt.show()"
   ]
  },
  {
   "cell_type": "code",
   "execution_count": 86,
   "id": "39a3bb42-42be-44f0-9081-93b3a0030338",
   "metadata": {},
   "outputs": [],
   "source": [
    "weekly_data= sales_nw.resample('W', on= 'Date')['Sales'].sum()"
   ]
  },
  {
   "cell_type": "code",
   "execution_count": 88,
   "id": "3c0115cc-5fe3-4c89-a915-1ad8d3628022",
   "metadata": {},
   "outputs": [
    {
     "data": {
      "text/plain": [
       "Date\n",
       "2020-10-04     84.857143\n",
       "2020-10-11    152.777778\n",
       "2020-10-18    150.476190\n",
       "2020-10-25    151.587302\n",
       "2020-11-01    122.460317\n",
       "2020-11-08    113.809524\n",
       "2020-11-15    115.761905\n",
       "2020-11-22    115.380952\n",
       "2020-11-29    117.698413\n",
       "2020-12-06    169.412698\n",
       "2020-12-13    181.492063\n",
       "2020-12-20    182.317460\n",
       "2020-12-27    183.047619\n",
       "2021-01-03     79.571429\n",
       "Freq: W-SUN, Name: Sales, dtype: float64"
      ]
     },
     "execution_count": 88,
     "metadata": {},
     "output_type": "execute_result"
    }
   ],
   "source": [
    "weekly_data"
   ]
  },
  {
   "cell_type": "code",
   "execution_count": 93,
   "id": "00cfadc2-3af2-49b6-9ee6-ff617fbcb44a",
   "metadata": {},
   "outputs": [
    {
     "data": {
      "text/plain": [
       "Date\n",
       "2020-12-31    1920.650794\n",
       "Freq: QE-DEC, Name: Sales, dtype: float64"
      ]
     },
     "execution_count": 93,
     "metadata": {},
     "output_type": "execute_result"
    }
   ],
   "source": [
    "quarterly_data= sales_nw.resample('QE', on= 'Date')['Sales'].sum()\n",
    "quarterly_data"
   ]
  },
  {
   "cell_type": "code",
   "execution_count": 98,
   "id": "a56259bb-312c-4ef7-9b8a-05c1e2a4284b",
   "metadata": {},
   "outputs": [
    {
     "data": {
      "text/plain": [
       "Date\n",
       "2020-10-31    645.650794\n",
       "2020-11-30    495.761905\n",
       "2020-12-31    779.238095\n",
       "Freq: ME, Name: Sales, dtype: float64"
      ]
     },
     "execution_count": 98,
     "metadata": {},
     "output_type": "execute_result"
    }
   ],
   "source": [
    "monthly_data= sales_nw.resample('ME', on= 'Date')['Sales'].sum()\n",
    "monthly_data"
   ]
  },
  {
   "cell_type": "markdown",
   "id": "a110c7b2-5b11-47d2-8b66-8da2641ba3f2",
   "metadata": {},
   "source": [
    "DATA VISUALIZATION"
   ]
  },
  {
   "cell_type": "code",
   "execution_count": 104,
   "id": "928f230d-6403-41c1-a804-cfab02db3be4",
   "metadata": {},
   "outputs": [
    {
     "data": {
      "text/plain": [
       "<Axes: xlabel='State', ylabel='Sales'>"
      ]
     },
     "execution_count": 104,
     "metadata": {},
     "output_type": "execute_result"
    },
    {
     "data": {
      "image/png": "[encoded data removed]",
      "text/plain": [
       "<Figure size 640x480 with 1 Axes>"
      ]
     },
     "metadata": {},
     "output_type": "display_data"
    }
   ],
   "source": [
    "##state wise analysis:\n",
    "sns.barplot(x=sales_nw['State'], y= sales_nw['Sales'], data= sales_nw)"
   ]
  },
  {
   "cell_type": "code",
   "execution_count": 107,
   "id": "7a612376-3758-45cc-9bf3-1e0bc4508e39",
   "metadata": {},
   "outputs": [
    {
     "data": {
      "text/plain": [
       "<Axes: xlabel='Group', ylabel='Sales'>"
      ]
     },
     "execution_count": 107,
     "metadata": {},
     "output_type": "execute_result"
    },
    {
     "data": {
      "image/png": "[encoded data removed]",
      "text/plain": [
       "<Figure size 640x480 with 1 Axes>"
      ]
     },
     "metadata": {},
     "output_type": "display_data"
    }
   ],
   "source": [
    "##group wise analysis:\n",
    "sns.barplot(x=sales_nw['Group'], y= sales_nw['Sales'], data= sales_nw)"
   ]
  },
  {
   "cell_type": "code",
   "execution_count": 110,
   "id": "62b31ab7-d455-4cd2-8b52-b455218207c5",
   "metadata": {},
   "outputs": [
    {
     "data": {
      "text/plain": [
       "<Axes: xlabel='Time', ylabel='Sales'>"
      ]
     },
     "execution_count": 110,
     "metadata": {},
     "output_type": "execute_result"
    },
    {
     "data": {
      "image/png": "[encoded data removed]",
      "text/plain": [
       "<Figure size 640x480 with 1 Axes>"
      ]
     },
     "metadata": {},
     "output_type": "display_data"
    }
   ],
   "source": [
    "##Time of the day analysis\n",
    "sns.barplot(x=sales_nw['Time'], y= sales_nw['Sales'], data= sales_nw)\n"
   ]
  },
  {
   "cell_type": "code",
   "execution_count": null,
   "id": "b8d27500-14e8-4d9e-b27d-902313a0fb12",
   "metadata": {},
   "outputs": [],
   "source": []
  }
 ],
 "metadata": {
  "kernelspec": {
   "display_name": "Python [conda env:base] *",
   "language": "python",
   "name": "conda-base-py"
  },
  "language_info": {
   "codemirror_mode": {
    "name": "ipython",
    "version": 3
   },
   "file_extension": ".py",
   "mimetype": "text/x-python",
   "name": "python",
   "nbconvert_exporter": "python",
   "pygments_lexer": "ipython3",
   "version": "3.12.7"
  }
 },
 "nbformat": 4,
 "nbformat_minor": 5
}
